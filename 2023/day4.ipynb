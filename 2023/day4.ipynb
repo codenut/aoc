{
 "cells": [
  {
   "cell_type": "code",
   "execution_count": 38,
   "metadata": {},
   "outputs": [],
   "source": [
    "with open(\"inputs/day4.in\") as f:\n",
    "    lines = [line.strip() for line in f.readlines()]\n",
    "\n",
    "def parse(line):\n",
    "    nums = line.split(\": \")[-1]\n",
    "    return [[int(n.strip()) for n in a.split(\" \") if n.strip() ] for a in nums.split(\" | \")]\n",
    "\n",
    "def get_match(wins, nums):\n",
    "    matches = set(wins).intersection(set(nums))\n",
    "    return len(matches)"
   ]
  },
  {
   "cell_type": "code",
   "execution_count": 39,
   "metadata": {},
   "outputs": [
    {
     "name": "stdout",
     "output_type": "stream",
     "text": [
      "[9, 2, 3, 10, 9, 8, 3, 10, 10, 3, 8, 4, 9, 3, 6, 4, 5, 3, 1, 2, 1, 0, 10, 10, 10, 8, 0, 10, 2, 10, 4, 10, 1, 3, 5, 5, 4, 2, 0, 0, 4, 3, 1, 1, 0, 5, 2, 10, 10, 7, 10, 10, 10, 10, 10, 7, 10, 0, 4, 3, 6, 0, 3, 0, 4, 1, 0, 1, 0, 3, 4, 2, 10, 10, 6, 5, 5, 8, 10, 10, 3, 3, 0, 0, 1, 0, 5, 0, 3, 2, 1, 0, 8, 8, 10, 4, 10, 10, 9, 1, 0, 8, 5, 1, 0, 2, 2, 2, 1, 0, 10, 8, 8, 6, 3, 4, 8, 7, 2, 3, 1, 3, 1, 0, 0, 3, 5, 4, 5, 6, 1, 5, 4, 1, 0, 3, 4, 4, 3, 3, 2, 1, 0, 10, 3, 5, 10, 10, 10, 0, 10, 5, 2, 8, 10, 4, 1, 1, 3, 1, 0, 3, 2, 1, 0, 1, 0, 0, 8, 8, 3, 3, 3, 2, 5, 4, 2, 4, 0, 0, 0, 0, 10, 10, 3, 10, 10, 3, 10, 6, 1, 10, 10, 7, 9, 0, 2, 6, 3, 5, 1, 3, 3, 2, 1, 0]\n",
      "23441\n"
     ]
    }
   ],
   "source": [
    "part1 = [get_match(*parse(line)) for line in lines]\n",
    "print(part1)\n",
    "part1 = sum(2 ** (match - 1) for match in part1 if match)\n",
    "print(part1)"
   ]
  },
  {
   "cell_type": "code",
   "execution_count": 40,
   "metadata": {},
   "outputs": [
    {
     "name": "stdout",
     "output_type": "stream",
     "text": [
      "[1, 2, 4, 8, 14, 28, 52, 104, 208, 416, 779, 1558, 3116, 5816, 11582, 23164, 44770, 83724, 167344, 333701, 476894, 858482, 1, 2, 4, 8, 16, 16, 32, 64, 128, 224, 448, 895, 1332, 2532, 5064, 9233, 18450, 18450, 7821, 8046, 15868, 31736, 47604, 1, 2, 4, 8, 14, 28, 55, 110, 220, 440, 880, 1760, 3506, 3502, 6996, 13992, 27956, 27901, 44314, 44094, 87748, 147595, 44095, 88190, 1, 2, 4, 8, 15, 26, 50, 100, 200, 400, 800, 1600, 3124, 6148, 6140, 4525, 5926, 1201, 2402, 2402, 4404, 8008, 16016, 1, 2, 4, 8, 16, 32, 64, 128, 248, 119, 236, 472, 944, 468, 936, 1856, 2912, 4888, 1, 2, 4, 8, 16, 32, 64, 128, 240, 480, 918, 1591, 2264, 4048, 1784, 1, 2, 4, 8, 15, 30, 60, 84, 168, 328, 160, 305, 466, 932, 1704, 3408, 6511, 11624, 1, 2, 4, 8, 16, 30, 60, 60, 116, 232, 464, 927, 1622, 3244, 6364, 9468, 12542, 23462, 10860, 11788, 23576, 47152, 1, 2, 1, 1, 2, 4, 8, 16, 32, 60, 112, 176, 351, 700, 524, 352, 352, 1, 2, 4, 8, 16, 32, 60, 120, 240, 448, 656, 1311, 2620, 5240, 5112, 10208, 20416, 35660, 71320, 141329, 190474, 380292, 747756, 1318523]\n",
      "5923918\n"
     ]
    }
   ],
   "source": [
    "cards = [1] * len(lines)\n",
    "for i, line in enumerate(lines):\n",
    "    mt = get_match(*parse(line))\n",
    "    for j in range(i + 1, i + mt + 1):\n",
    "        cards[j] += cards[i]\n",
    "\n",
    "print(cards)\n",
    "print(sum(cards))"
   ]
  }
 ],
 "metadata": {
  "kernelspec": {
   "display_name": "Python 3",
   "language": "python",
   "name": "python3"
  },
  "language_info": {
   "codemirror_mode": {
    "name": "ipython",
    "version": 3
   },
   "file_extension": ".py",
   "mimetype": "text/x-python",
   "name": "python",
   "nbconvert_exporter": "python",
   "pygments_lexer": "ipython3",
   "version": "3.11.3"
  }
 },
 "nbformat": 4,
 "nbformat_minor": 2
}
