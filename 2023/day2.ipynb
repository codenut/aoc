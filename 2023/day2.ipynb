{
 "cells": [
  {
   "cell_type": "code",
   "execution_count": 77,
   "metadata": {},
   "outputs": [],
   "source": [
    "with open(\"inputs/day2.in\") as f:\n",
    "    lines = [line.strip() for line in f.readlines()]"
   ]
  },
  {
   "cell_type": "code",
   "execution_count": 78,
   "metadata": {},
   "outputs": [],
   "source": [
    "def get_balls(round):\n",
    "    round = round.split(\", \")\n",
    "    round = [r.split(\" \") for r in round]\n",
    "    return {r[1]:int(r[0]) for r in round}\n",
    "\n",
    "def parse(line):\n",
    "    rounds = line.split(\": \")[1].split(\"; \")\n",
    "    return [get_balls(round) for round in rounds]"
   ]
  },
  {
   "cell_type": "code",
   "execution_count": 79,
   "metadata": {},
   "outputs": [
    {
     "name": "stdout",
     "output_type": "stream",
     "text": [
      "[[{'red': 2, 'green': 2}, {'red': 6, 'green': 3}, {'red': 2, 'green': 1, 'blue': 2}, {'red': 1}], [{'green': 2}, {'red': 15, 'blue': 5}, {'green': 2, 'blue': 4, 'red': 5}, {'green': 3, 'blue': 6, 'red': 6}, {'blue': 6, 'green': 1}], [{'blue': 10, 'red': 8, 'green': 5}, {'green': 5, 'red': 3}, {'red': 12, 'green': 2, 'blue': 9}, {'green': 6, 'red': 11}], [{'green': 2, 'blue': 3, 'red': 1}, {'green': 17, 'blue': 1, 'red': 1}, {'green': 1, 'red': 5}], [{'green': 4, 'red': 13, 'blue': 3}, {'blue': 14, 'green': 5, 'red': 5}, {'blue': 2, 'green': 7, 'red': 3}, {'green': 5, 'blue': 11, 'red': 10}], [{'green': 1, 'red': 4}, {'blue': 1, 'red': 19, 'green': 5}, {'red': 15, 'green': 1, 'blue': 1}, {'green': 8, 'red': 12}, {'green': 19, 'red': 7}, {'blue': 2, 'red': 14, 'green': 12}], [{'blue': 1, 'red': 3, 'green': 3}, {'green': 4}, {'blue': 1, 'red': 6, 'green': 5}], [{'green': 1}, {'green': 1, 'red': 16, 'blue': 1}, {'red': 3, 'green': 1, 'blue': 1}, {'green': 1}, {'blue': 2}, {'red': 9}], [{'green': 5, 'red': 1}, {'red': 6, 'blue': 4, 'green': 1}, {'green': 9, 'red': 7, 'blue': 6}, {'red': 11, 'green': 12, 'blue': 4}], [{'green': 12, 'blue': 4, 'red': 7}, {'blue': 6, 'red': 2}, {'green': 7, 'blue': 6, 'red': 6}], [{'green': 18, 'red': 2}, {'green': 19, 'red': 14, 'blue': 9}, {'blue': 8, 'red': 12, 'green': 5}, {'green': 4, 'red': 12}, {'red': 14, 'green': 7, 'blue': 10}], [{'red': 8, 'blue': 4}, {'green': 4, 'red': 1, 'blue': 2}, {'blue': 1, 'green': 11, 'red': 12}], [{'green': 5, 'blue': 4, 'red': 4}, {'red': 4, 'blue': 5, 'green': 2}, {'red': 1, 'blue': 5, 'green': 10}], [{'red': 14, 'green': 1}, {'green': 2, 'blue': 3, 'red': 7}, {'red': 2, 'blue': 4}, {'green': 3, 'red': 8, 'blue': 4}, {'green': 2, 'red': 14, 'blue': 4}, {'green': 3, 'red': 9, 'blue': 6}], [{'blue': 17, 'red': 5, 'green': 1}, {'green': 1, 'red': 2}, {'red': 3, 'green': 2}, {'blue': 11, 'red': 4, 'green': 2}], [{'red': 5, 'green': 5, 'blue': 1}, {'blue': 5, 'red': 15, 'green': 13}, {'blue': 3, 'red': 6, 'green': 12}, {'green': 1, 'red': 13, 'blue': 9}, {'blue': 15, 'green': 13, 'red': 6}, {'green': 5, 'red': 7, 'blue': 3}], [{'red': 17, 'blue': 9}, {'red': 19, 'blue': 9, 'green': 2}, {'red': 18, 'green': 1, 'blue': 8}, {'blue': 10, 'red': 2, 'green': 1}, {'red': 7, 'blue': 5, 'green': 1}, {'green': 2, 'red': 2, 'blue': 5}], [{'blue': 1, 'green': 9, 'red': 1}, {'green': 8, 'blue': 5}, {'blue': 4, 'green': 9}, {'red': 1, 'green': 6}, {'green': 3, 'blue': 3, 'red': 1}, {'red': 1, 'blue': 1, 'green': 4}], [{'blue': 3, 'red': 3}, {'blue': 1, 'red': 2, 'green': 4}, {'green': 4, 'red': 2}, {'blue': 7, 'red': 1}], [{'blue': 1, 'red': 2, 'green': 6}, {'red': 4, 'green': 10, 'blue': 5}, {'green': 7, 'blue': 1}, {'green': 3, 'red': 10, 'blue': 1}, {'blue': 3, 'red': 11, 'green': 2}, {'green': 10, 'blue': 1, 'red': 11}], [{'green': 1, 'blue': 17, 'red': 8}, {'green': 13, 'blue': 8, 'red': 7}, {'blue': 7, 'green': 10, 'red': 2}], [{'green': 4, 'blue': 13}, {'blue': 13, 'green': 10}, {'green': 8, 'blue': 12, 'red': 3}, {'green': 6, 'blue': 3, 'red': 3}], [{'green': 11, 'red': 7}, {'blue': 11, 'red': 11}, {'green': 12, 'red': 3}, {'red': 7, 'green': 7, 'blue': 15}, {'green': 10, 'blue': 5}], [{'blue': 1, 'green': 15, 'red': 6}, {'red': 2, 'blue': 1, 'green': 5}, {'green': 13, 'blue': 1, 'red': 7}, {'blue': 1}, {'green': 19, 'blue': 1, 'red': 12}, {'green': 13, 'blue': 1, 'red': 2}], [{'green': 15, 'blue': 1, 'red': 2}, {'green': 9, 'blue': 5}, {'green': 16, 'red': 4}, {'blue': 3, 'red': 2, 'green': 7}], [{'blue': 5, 'red': 1}, {'blue': 9, 'green': 1, 'red': 1}, {'red': 1, 'green': 1, 'blue': 4}], [{'red': 3, 'blue': 4, 'green': 2}, {'red': 2, 'blue': 3}, {'blue': 1, 'red': 1, 'green': 5}], [{'red': 1, 'green': 3, 'blue': 6}, {'red': 5, 'blue': 2, 'green': 3}, {'green': 6, 'red': 4}], [{'green': 8, 'red': 6, 'blue': 18}, {'blue': 18, 'green': 2, 'red': 8}, {'red': 2, 'blue': 14, 'green': 2}, {'red': 2, 'green': 4, 'blue': 19}, {'green': 11, 'red': 9, 'blue': 8}], [{'red': 9, 'blue': 11, 'green': 6}, {'red': 4, 'green': 6, 'blue': 1}, {'blue': 13, 'red': 1, 'green': 1}, {'red': 7, 'green': 1, 'blue': 1}], [{'red': 11, 'green': 3}, {'green': 3, 'red': 2}, {'red': 6, 'green': 4}, {'blue': 4, 'red': 9}, {'green': 4, 'red': 2, 'blue': 3}, {'red': 2, 'blue': 1, 'green': 6}], [{'red': 4, 'blue': 16, 'green': 12}, {'blue': 10, 'green': 7, 'red': 3}, {'blue': 7, 'green': 4}, {'green': 1, 'blue': 8, 'red': 3}], [{'green': 6, 'blue': 2, 'red': 2}, {'red': 1, 'green': 3, 'blue': 7}, {'blue': 9, 'green': 1}, {'blue': 10, 'green': 1, 'red': 1}, {'blue': 8, 'red': 4, 'green': 6}, {'green': 1, 'red': 2, 'blue': 7}], [{'blue': 4, 'red': 6}, {'red': 7, 'green': 5, 'blue': 3}, {'blue': 2, 'red': 1}, {'blue': 5, 'green': 2}], [{'green': 8, 'blue': 1}, {'blue': 12}, {'green': 6, 'blue': 13}, {'blue': 9, 'green': 4}, {'green': 5, 'red': 1, 'blue': 7}, {'blue': 5, 'red': 1, 'green': 6}], [{'red': 10, 'blue': 4, 'green': 6}, {'blue': 15, 'green': 1, 'red': 2}, {'red': 16, 'blue': 14, 'green': 2}], [{'green': 3, 'red': 1, 'blue': 2}, {'blue': 5, 'green': 2, 'red': 4}, {'red': 2, 'green': 3}, {'blue': 4, 'red': 4, 'green': 1}, {'red': 3, 'blue': 4, 'green': 3}], [{'red': 9, 'green': 1, 'blue': 16}, {'green': 1, 'blue': 4, 'red': 1}, {'blue': 10, 'red': 1, 'green': 1}, {'red': 3, 'blue': 17}, {'blue': 7, 'red': 5}], [{'red': 9, 'blue': 16, 'green': 3}, {'green': 8, 'red': 3, 'blue': 3}, {'blue': 8, 'red': 13, 'green': 1}, {'red': 3, 'blue': 17, 'green': 3}, {'blue': 11, 'red': 9, 'green': 3}], [{'blue': 4, 'green': 2, 'red': 8}, {'blue': 3}, {'blue': 7}], [{'blue': 3, 'green': 10, 'red': 7}, {'blue': 1}, {'green': 8, 'blue': 4, 'red': 1}, {'green': 8, 'red': 7, 'blue': 4}], [{'green': 6, 'blue': 5, 'red': 1}, {'blue': 5, 'red': 2, 'green': 6}, {'green': 1, 'red': 3, 'blue': 3}, {'red': 1, 'blue': 1, 'green': 8}, {'red': 2, 'green': 10}, {'red': 4, 'green': 6}], [{'blue': 12, 'green': 9, 'red': 9}, {'blue': 8, 'red': 6, 'green': 2}, {'green': 1, 'blue': 8, 'red': 12}, {'blue': 15, 'green': 5, 'red': 13}, {'blue': 15, 'green': 7, 'red': 8}, {'blue': 16, 'red': 11, 'green': 8}], [{'green': 4, 'blue': 16, 'red': 1}, {'green': 5, 'blue': 1}, {'blue': 1, 'green': 1}, {'blue': 11, 'red': 1, 'green': 3}, {'blue': 10, 'red': 1}, {'blue': 15, 'red': 1, 'green': 3}], [{'blue': 12, 'green': 6, 'red': 9}, {'red': 5, 'blue': 6, 'green': 2}, {'blue': 4, 'green': 5, 'red': 5}, {'green': 2, 'blue': 6, 'red': 8}, {'red': 9, 'green': 7, 'blue': 7}], [{'blue': 7, 'red': 1}, {'green': 1, 'blue': 2, 'red': 2}, {'red': 3}], [{'blue': 10, 'green': 11, 'red': 1}, {'green': 10}, {'red': 4, 'blue': 6, 'green': 16}, {'green': 20, 'blue': 2}, {'green': 1, 'red': 3, 'blue': 6}, {'red': 4, 'blue': 5, 'green': 13}], [{'red': 1, 'blue': 4, 'green': 3}, {'blue': 20, 'red': 1, 'green': 8}, {'red': 1, 'green': 12, 'blue': 12}], [{'green': 5, 'red': 8, 'blue': 2}, {'blue': 2, 'red': 2, 'green': 1}, {'red': 3, 'blue': 3}, {'blue': 3, 'green': 12}], [{'green': 7, 'red': 8}, {'blue': 2, 'green': 6}, {'green': 1, 'blue': 1, 'red': 7}], [{'red': 19, 'blue': 13, 'green': 4}, {'green': 9, 'red': 10, 'blue': 2}, {'green': 2, 'red': 20}, {'red': 20, 'green': 2}, {'green': 6, 'blue': 10, 'red': 5}], [{'red': 1, 'green': 13}, {'green': 11}, {'green': 15}, {'red': 1, 'green': 9, 'blue': 1}], [{'blue': 7, 'green': 3}, {'red': 1, 'blue': 6, 'green': 6}, {'blue': 7, 'red': 1, 'green': 6}], [{'red': 12, 'green': 1}, {'red': 14, 'green': 10}, {'green': 1, 'red': 7, 'blue': 4}], [{'blue': 1, 'green': 5, 'red': 3}, {'green': 3, 'red': 4}, {'red': 6, 'blue': 1, 'green': 4}], [{'red': 5, 'blue': 1, 'green': 2}, {'green': 6}, {'red': 4, 'green': 6}, {'green': 6, 'blue': 2, 'red': 2}, {'red': 4, 'green': 2, 'blue': 2}, {'red': 4, 'blue': 2}], [{'green': 6, 'blue': 3}, {'blue': 8, 'green': 6, 'red': 5}, {'red': 5, 'green': 2, 'blue': 12}, {'red': 5, 'green': 7, 'blue': 5}], [{'blue': 2, 'red': 1, 'green': 4}, {'red': 1, 'green': 14}, {'green': 2, 'blue': 2, 'red': 1}], [{'red': 10, 'blue': 11, 'green': 6}, {'blue': 2, 'green': 8}, {'green': 1, 'blue': 5, 'red': 15}, {'red': 3, 'blue': 7, 'green': 9}, {'green': 9, 'blue': 9, 'red': 14}, {'green': 8, 'blue': 13, 'red': 15}], [{'blue': 1, 'red': 11, 'green': 7}, {'red': 7, 'blue': 3}, {'red': 16, 'blue': 3, 'green': 2}, {'red': 2, 'green': 9, 'blue': 2}, {'blue': 2, 'red': 8, 'green': 9}, {'red': 15, 'blue': 1, 'green': 9}], [{'green': 8, 'blue': 15}, {'blue': 16, 'green': 1}, {'green': 1, 'blue': 11}, {'green': 1, 'blue': 9, 'red': 1}, {'green': 8, 'blue': 9}, {'blue': 8, 'green': 15}], [{'green': 5, 'blue': 4}, {'blue': 1, 'green': 2}, {'red': 1, 'green': 16, 'blue': 2}, {'blue': 1, 'green': 16, 'red': 1}, {'green': 13, 'blue': 2}], [{'red': 1, 'blue': 1}, {'green': 1, 'red': 1}, {'green': 1}, {'green': 1, 'red': 2}, {'blue': 1}, {'red': 2}], [{'red': 5, 'blue': 1, 'green': 5}, {'red': 10, 'green': 4, 'blue': 2}, {'red': 8, 'blue': 1}], [{'red': 1, 'green': 8, 'blue': 10}, {'blue': 11, 'green': 5, 'red': 1}, {'red': 2, 'blue': 5, 'green': 1}, {'green': 8, 'blue': 7}], [{'red': 5, 'green': 1}, {'blue': 1, 'red': 7}, {'red': 4, 'green': 15, 'blue': 1}, {'red': 8, 'green': 4}, {'blue': 1, 'green': 15, 'red': 3}], [{'green': 15, 'blue': 7, 'red': 1}, {'green': 8, 'blue': 7}, {'blue': 5, 'red': 1, 'green': 4}, {'green': 2, 'blue': 9}, {'red': 1, 'blue': 6}], [{'green': 14, 'red': 17}, {'red': 1, 'blue': 2, 'green': 17}, {'green': 10}, {'red': 3, 'green': 7, 'blue': 2}], [{'green': 8, 'red': 12, 'blue': 11}, {'red': 8, 'blue': 2, 'green': 10}, {'green': 2, 'blue': 6, 'red': 2}, {'red': 10, 'green': 12, 'blue': 3}], [{'blue': 2, 'green': 8}, {'green': 9}, {'red': 2}, {'red': 2, 'green': 5}, {'green': 3, 'blue': 2, 'red': 3}, {'red': 4, 'blue': 1}], [{'green': 3, 'blue': 4}, {'red': 13, 'blue': 13}, {'green': 4, 'red': 3, 'blue': 1}, {'green': 1, 'blue': 7, 'red': 3}, {'green': 3, 'blue': 9, 'red': 13}, {'red': 10, 'blue': 12, 'green': 5}], [{'green': 4, 'red': 17, 'blue': 4}, {'green': 4, 'blue': 2}, {'red': 1, 'blue': 10, 'green': 1}, {'green': 3}, {'blue': 2, 'red': 15, 'green': 3}, {'red': 6, 'blue': 10}], [{'green': 14, 'red': 9, 'blue': 6}, {'red': 10, 'green': 4, 'blue': 7}, {'green': 9, 'red': 5, 'blue': 6}, {'red': 6, 'blue': 2}, {'blue': 5, 'red': 7, 'green': 14}, {'green': 4, 'blue': 6, 'red': 5}], [{'blue': 19, 'green': 7, 'red': 1}, {'blue': 12, 'green': 11, 'red': 1}, {'red': 2, 'blue': 5, 'green': 14}, {'green': 5, 'blue': 5, 'red': 7}], [{'green': 12, 'blue': 5, 'red': 12}, {'green': 17, 'red': 10, 'blue': 7}, {'blue': 1, 'red': 8, 'green': 1}, {'red': 11, 'green': 10, 'blue': 4}, {'blue': 1, 'green': 10}, {'green': 1, 'blue': 5, 'red': 7}], [{'green': 9, 'red': 2, 'blue': 3}, {'red': 6, 'green': 13, 'blue': 5}, {'green': 14, 'red': 9, 'blue': 2}, {'blue': 1, 'red': 6, 'green': 2}, {'red': 8, 'green': 10, 'blue': 1}, {'red': 2, 'green': 15, 'blue': 7}], [{'blue': 5, 'green': 2, 'red': 1}, {'blue': 4, 'red': 14}, {'blue': 3, 'green': 1, 'red': 8}, {'red': 13, 'blue': 8}, {'blue': 17, 'green': 2, 'red': 9}, {'blue': 11, 'green': 1}], [{'blue': 5, 'green': 4, 'red': 4}, {'red': 1, 'green': 9, 'blue': 4}, {'green': 8}], [{'blue': 5, 'red': 6}, {'blue': 2, 'green': 1, 'red': 9}, {'green': 3}, {'red': 8, 'green': 1, 'blue': 5}, {'green': 2, 'red': 5}], [{'green': 1, 'blue': 2, 'red': 8}, {'green': 9, 'red': 12}, {'green': 17, 'red': 8, 'blue': 11}], [{'red': 8, 'green': 11, 'blue': 13}, {'red': 9, 'blue': 14, 'green': 14}, {'blue': 14, 'green': 11, 'red': 1}, {'red': 5, 'green': 13, 'blue': 3}, {'green': 4, 'red': 9, 'blue': 2}, {'red': 11, 'blue': 5, 'green': 2}], [{'green': 13, 'red': 2, 'blue': 1}, {'green': 10, 'blue': 2}, {'blue': 2, 'green': 11}, {'red': 4, 'green': 1, 'blue': 3}, {'green': 14, 'blue': 1, 'red': 2}], [{'blue': 6, 'red': 2}, {'blue': 3, 'red': 11, 'green': 1}, {'red': 12, 'green': 1, 'blue': 1}, {'red': 2}, {'red': 10, 'blue': 6}], [{'green': 1, 'blue': 13, 'red': 2}, {'red': 4, 'blue': 17, 'green': 18}, {'green': 17, 'blue': 13, 'red': 4}, {'blue': 4, 'green': 15, 'red': 3}, {'red': 3}, {'blue': 15, 'red': 1, 'green': 12}], [{'green': 11, 'red': 7}, {'green': 7, 'blue': 4, 'red': 6}, {'red': 8, 'blue': 7, 'green': 2}, {'green': 11, 'red': 10, 'blue': 3}], [{'green': 10, 'blue': 5}, {'blue': 4, 'red': 7, 'green': 16}, {'red': 8, 'blue': 1, 'green': 12}], [{'red': 7, 'green': 3}, {'blue': 1, 'red': 5, 'green': 14}, {'red': 13, 'green': 4}, {'green': 19, 'red': 9}, {'green': 12, 'red': 1}], [{'red': 5, 'blue': 16}, {'green': 2, 'blue': 14, 'red': 1}, {'blue': 14, 'green': 1}], [{'green': 1, 'blue': 2, 'red': 1}, {'blue': 10}, {'blue': 4}, {'green': 2, 'blue': 14}, {'blue': 14, 'red': 1, 'green': 2}], [{'blue': 1, 'green': 13, 'red': 1}, {'blue': 4, 'red': 1, 'green': 17}, {'green': 9, 'blue': 7, 'red': 5}, {'blue': 1, 'red': 3, 'green': 15}, {'red': 3, 'blue': 4, 'green': 15}], [{'green': 1}, {'green': 9, 'red': 2, 'blue': 2}, {'blue': 3, 'green': 12, 'red': 1}, {'red': 2, 'blue': 1, 'green': 6}], [{'green': 1, 'blue': 4, 'red': 10}, {'blue': 12, 'red': 9, 'green': 3}, {'blue': 10, 'red': 8, 'green': 2}], [{'blue': 7, 'red': 5}, {'green': 2, 'blue': 1, 'red': 6}, {'blue': 1, 'red': 6}], [{'red': 8, 'green': 3, 'blue': 8}, {'red': 3, 'green': 1, 'blue': 4}, {'green': 4, 'blue': 17, 'red': 2}, {'green': 2, 'red': 9, 'blue': 7}, {'red': 13, 'green': 4, 'blue': 18}], [{'blue': 9, 'green': 11}, {'green': 14, 'blue': 10, 'red': 11}, {'blue': 13, 'green': 10, 'red': 1}, {'red': 6, 'green': 4, 'blue': 1}, {'blue': 9, 'green': 13}], [{'red': 3, 'green': 3}, {'green': 16, 'blue': 2}, {'blue': 7, 'red': 3, 'green': 16}, {'green': 10, 'red': 1}], [{'red': 4, 'blue': 6}, {'red': 2}, {'red': 13, 'blue': 6, 'green': 3}, {'green': 1, 'red': 12}, {'green': 3, 'blue': 2, 'red': 16}], [{'red': 1, 'green': 6, 'blue': 7}, {'red': 14, 'green': 3, 'blue': 2}, {'blue': 16, 'red': 14, 'green': 11}, {'blue': 5}, {'red': 9, 'green': 1, 'blue': 15}], [{'blue': 3, 'green': 8, 'red': 1}, {'green': 4, 'blue': 1, 'red': 2}, {'red': 1, 'green': 4}, {'blue': 2, 'green': 4}], [{'red': 8, 'blue': 2, 'green': 1}, {'blue': 2, 'red': 4, 'green': 2}, {'red': 9, 'green': 1}, {'green': 2, 'red': 2}, {'red': 3, 'blue': 5}, {'blue': 5, 'red': 8}]]\n"
     ]
    }
   ],
   "source": [
    "games = [parse(line) for line in lines]\n",
    "print(games)"
   ]
  },
  {
   "cell_type": "code",
   "execution_count": 80,
   "metadata": {},
   "outputs": [],
   "source": [
    "BALLS = {'red': 12, 'green': 13, 'blue': 14 }"
   ]
  },
  {
   "cell_type": "code",
   "execution_count": 81,
   "metadata": {},
   "outputs": [],
   "source": [
    "def is_pos(game):\n",
    "    return all(BALLS[color] >= balls  for g in game for color, balls in g.items())\n"
   ]
  },
  {
   "cell_type": "code",
   "execution_count": 82,
   "metadata": {},
   "outputs": [
    {
     "name": "stdout",
     "output_type": "stream",
     "text": [
      "2169\n"
     ]
    }
   ],
   "source": [
    "part1 = sum(i + 1 for i, game in enumerate(games) if is_pos(game))\n",
    "print(part1)"
   ]
  },
  {
   "cell_type": "code",
   "execution_count": 83,
   "metadata": {},
   "outputs": [],
   "source": [
    "from collections import defaultdict\n",
    "from functools import reduce\n",
    "\n",
    "def get_pos(game):\n",
    "    res = defaultdict(int)\n",
    "    for g in game:\n",
    "        for color, balls in g.items():\n",
    "            res[color] = max(res[color], balls)\n",
    "    return res.values()\n",
    "\n",
    "def muliply(arr):\n",
    "    return reduce(lambda x, y: x * y, arr, 1)"
   ]
  },
  {
   "cell_type": "code",
   "execution_count": 84,
   "metadata": {},
   "outputs": [
    {
     "name": "stdout",
     "output_type": "stream",
     "text": [
      "60948\n"
     ]
    }
   ],
   "source": [
    "poss = [get_pos(g) for g in games]\n",
    "part2 = sum(muliply(p) for p in poss)\n",
    "print(part2)"
   ]
  },
  {
   "cell_type": "code",
   "execution_count": null,
   "metadata": {},
   "outputs": [],
   "source": []
  }
 ],
 "metadata": {
  "kernelspec": {
   "display_name": "Python 3",
   "language": "python",
   "name": "python3"
  },
  "language_info": {
   "codemirror_mode": {
    "name": "ipython",
    "version": 3
   },
   "file_extension": ".py",
   "mimetype": "text/x-python",
   "name": "python",
   "nbconvert_exporter": "python",
   "pygments_lexer": "ipython3",
   "version": "3.11.3"
  }
 },
 "nbformat": 4,
 "nbformat_minor": 2
}
