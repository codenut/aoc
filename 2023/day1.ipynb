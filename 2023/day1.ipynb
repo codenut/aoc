{
 "cells": [
  {
   "cell_type": "code",
   "execution_count": 53,
   "metadata": {},
   "outputs": [],
   "source": [
    "M = {\n",
    "    \"one\": \"1\",\n",
    "    \"nine\": \"9\",\n",
    "    \"five\": \"5\",\n",
    "    \"three\": \"3\",\n",
    "    \"eight\": \"8\",\n",
    "    \"two\": \"2\",\n",
    "    \"four\": \"4\",\n",
    "    \"six\": \"6\",\n",
    "    \"seven\": \"7\",\n",
    "}"
   ]
  },
  {
   "cell_type": "code",
   "execution_count": 103,
   "metadata": {},
   "outputs": [],
   "source": [
    "with open(\"inputs/day1.in\") as f:\n",
    "    lines = [line for line in f.readlines()]"
   ]
  },
  {
   "cell_type": "code",
   "execution_count": 105,
   "metadata": {},
   "outputs": [
    {
     "name": "stdout",
     "output_type": "stream",
     "text": [
      "55569\n"
     ]
    }
   ],
   "source": [
    "def is_word(line, i, w):\n",
    "    return line[i: i + len(w)] == w\n",
    "\n",
    "def get_first(line):\n",
    "    for i, c in enumerate(line):\n",
    "        if c.isdigit(): return c\n",
    "        for word, num in M.items():\n",
    "            if is_word(line, i, word): return num\n",
    "\n",
    "def get_last(line):\n",
    "    for i in range(len(line) - 1, -1, -1):\n",
    "        c = line[i]\n",
    "        if c.isdigit(): return c\n",
    "        for word, num in M.items():\n",
    "            if is_word(line, i, word): return num\n",
    "\n",
    "def solve(lines):\n",
    "    lines = [int(get_first(line) + get_last(line)) for line in lines]\n",
    "    return sum(lines)\n",
    "\n",
    "total = solve(lines)\n",
    "print(total)"
   ]
  },
  {
   "cell_type": "code",
   "execution_count": null,
   "metadata": {},
   "outputs": [],
   "source": []
  }
 ],
 "metadata": {
  "kernelspec": {
   "display_name": "Python 3",
   "language": "python",
   "name": "python3"
  },
  "language_info": {
   "codemirror_mode": {
    "name": "ipython",
    "version": 3
   },
   "file_extension": ".py",
   "mimetype": "text/x-python",
   "name": "python",
   "nbconvert_exporter": "python",
   "pygments_lexer": "ipython3",
   "version": "3.11.3"
  }
 },
 "nbformat": 4,
 "nbformat_minor": 2
}
