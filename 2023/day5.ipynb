{
 "cells": [
  {
   "cell_type": "code",
   "execution_count": 1,
   "metadata": {},
   "outputs": [],
   "source": [
    "import java.io.File\n",
    "import kotlin.math.min\n",
    "\n",
    "val lines = File(\"inputs/day5.in\").readLines()\n",
    "val seeds = lines[0].split(\": \")[1].split(\" \").map {it -> it.toLong() }"
   ]
  },
  {
   "cell_type": "code",
   "execution_count": 2,
   "metadata": {},
   "outputs": [],
   "source": [
    "val N = 7\n",
    "val MAPS = Array(N) { mutableListOf<Triple<Long, Long, Long>>() }\n",
    "\n",
    "fun setRange(src: Long, dest: Long, range: Long, k: Int) {\n",
    "    MAPS[k].add(Triple(dest, src, range))\n",
    "}\n",
    "\n",
    "fun get(k: Int, x: Long): Long {\n",
    "    for ((a, b, c) in MAPS[k]) {\n",
    "        if (x in a until a + c) {\n",
    "            return b + (x - a)\n",
    "        }\n",
    "    }\n",
    "    return x\n",
    "}\n",
    "\n",
    "fun getLoc(seed: Long): Long {\n",
    "    var currentSeed = seed\n",
    "    for (i in 0 until N) {\n",
    "        currentSeed = get(i, currentSeed)\n",
    "    }\n",
    "    return currentSeed\n",
    "}\n",
    "\n",
    "var cur = 3\n",
    "for (i in 0 until N) {\n",
    "    for (j in cur until lines.size) {\n",
    "        val line = lines[j].trim()\n",
    "        if (line.isEmpty()) {\n",
    "            cur = j + 2\n",
    "            break\n",
    "        }\n",
    "        val (src, dest, rnge) = line.split(\" \").map { it.toLong() }\n",
    "        setRange(src, dest, rnge, i)\n",
    "    }\n",
    "}\n"
   ]
  },
  {
   "cell_type": "code",
   "execution_count": 3,
   "metadata": {},
   "outputs": [
    {
     "name": "stdout",
     "output_type": "stream",
     "text": [
      "226172555\n"
     ]
    }
   ],
   "source": [
    "var part1 = Long.MAX_VALUE\n",
    "for (seed in seeds) {\n",
    "    val loc = getLoc(seed)\n",
    "    part1 = minOf(part1, loc)\n",
    "}\n",
    "\n",
    "println(part1)"
   ]
  },
  {
   "cell_type": "code",
   "execution_count": 4,
   "metadata": {},
   "outputs": [
    {
     "name": "stdout",
     "output_type": "stream",
     "text": [
      "0 47909639\n",
      "2 47909639\n",
      "4 47909639\n",
      "6 47909639\n",
      "8 47909639\n",
      "10 47909639\n",
      "12 47909639\n",
      "14 47909639\n",
      "16 47909639\n",
      "18 47909639\n",
      "47909639\n"
     ]
    }
   ],
   "source": [
    "var part2 = Long.MAX_VALUE\n",
    "for (i in 0 until seeds.size step 2) {\n",
    "    val a = seeds[i]\n",
    "    val b = seeds[i + 1]\n",
    "    for (seed in a until a + b) {\n",
    "        val loc = getLoc(seed)\n",
    "        part2 = minOf(part2, loc)\n",
    "    }\n",
    "    println(\"$i $part2\")\n",
    "}\n",
    "\n",
    "println(part2)"
   ]
  }
 ],
 "metadata": {
  "kernelspec": {
   "display_name": "Kotlin",
   "language": "kotlin",
   "name": "kotlin"
  },
  "language_info": {
   "codemirror_mode": "text/x-kotlin",
   "file_extension": ".kt",
   "mimetype": "text/x-kotlin",
   "name": "kotlin",
   "nbconvert_exporter": "",
   "pygments_lexer": "kotlin",
   "version": "1.8.20"
  }
 },
 "nbformat": 4,
 "nbformat_minor": 2
}
